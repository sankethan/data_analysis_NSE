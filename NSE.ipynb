{
 "cells": [
  {
   "cell_type": "code",
   "execution_count": 36,
   "metadata": {},
   "outputs": [
    {
     "data": {
      "text/html": [
       "<div>\n",
       "<style scoped>\n",
       "    .dataframe tbody tr th:only-of-type {\n",
       "        vertical-align: middle;\n",
       "    }\n",
       "\n",
       "    .dataframe tbody tr th {\n",
       "        vertical-align: top;\n",
       "    }\n",
       "\n",
       "    .dataframe thead th {\n",
       "        text-align: right;\n",
       "    }\n",
       "</style>\n",
       "<table border=\"1\" class=\"dataframe\">\n",
       "  <thead>\n",
       "    <tr style=\"text-align: right;\">\n",
       "      <th></th>\n",
       "      <th>symbol</th>\n",
       "      <th>open</th>\n",
       "      <th>high</th>\n",
       "      <th>low</th>\n",
       "      <th>close</th>\n",
       "      <th>volume</th>\n",
       "      <th>ema_fast</th>\n",
       "      <th>ema_slow</th>\n",
       "      <th>rsi</th>\n",
       "    </tr>\n",
       "    <tr>\n",
       "      <th>datetime</th>\n",
       "      <th></th>\n",
       "      <th></th>\n",
       "      <th></th>\n",
       "      <th></th>\n",
       "      <th></th>\n",
       "      <th></th>\n",
       "      <th></th>\n",
       "      <th></th>\n",
       "      <th></th>\n",
       "    </tr>\n",
       "  </thead>\n",
       "  <tbody>\n",
       "    <tr>\n",
       "      <th>2011-07-18 09:15:00</th>\n",
       "      <td>NSE:BAJFINANCE</td>\n",
       "      <td>72.100000</td>\n",
       "      <td>72.790002</td>\n",
       "      <td>71.700000</td>\n",
       "      <td>72.125000</td>\n",
       "      <td>1510490.0</td>\n",
       "      <td>64.814422</td>\n",
       "      <td>62.289000</td>\n",
       "      <td>75.970278</td>\n",
       "    </tr>\n",
       "    <tr>\n",
       "      <th>2011-07-19 09:15:00</th>\n",
       "      <td>NSE:BAJFINANCE</td>\n",
       "      <td>72.329999</td>\n",
       "      <td>78.000000</td>\n",
       "      <td>71.809998</td>\n",
       "      <td>73.829999</td>\n",
       "      <td>2082100.0</td>\n",
       "      <td>65.673049</td>\n",
       "      <td>62.741588</td>\n",
       "      <td>78.359873</td>\n",
       "    </tr>\n",
       "    <tr>\n",
       "      <th>2011-07-20 09:15:00</th>\n",
       "      <td>NSE:BAJFINANCE</td>\n",
       "      <td>74.950000</td>\n",
       "      <td>75.475000</td>\n",
       "      <td>71.500000</td>\n",
       "      <td>72.725000</td>\n",
       "      <td>489180.0</td>\n",
       "      <td>66.344663</td>\n",
       "      <td>63.133095</td>\n",
       "      <td>73.274192</td>\n",
       "    </tr>\n",
       "    <tr>\n",
       "      <th>2011-07-21 09:15:00</th>\n",
       "      <td>NSE:BAJFINANCE</td>\n",
       "      <td>73.000000</td>\n",
       "      <td>73.000000</td>\n",
       "      <td>70.200000</td>\n",
       "      <td>71.179999</td>\n",
       "      <td>346730.0</td>\n",
       "      <td>66.805171</td>\n",
       "      <td>63.448660</td>\n",
       "      <td>66.750938</td>\n",
       "    </tr>\n",
       "    <tr>\n",
       "      <th>2011-07-22 09:15:00</th>\n",
       "      <td>NSE:BAJFINANCE</td>\n",
       "      <td>72.000000</td>\n",
       "      <td>73.079999</td>\n",
       "      <td>71.300000</td>\n",
       "      <td>72.720001</td>\n",
       "      <td>673500.0</td>\n",
       "      <td>67.368488</td>\n",
       "      <td>63.812242</td>\n",
       "      <td>69.651168</td>\n",
       "    </tr>\n",
       "    <tr>\n",
       "      <th>...</th>\n",
       "      <td>...</td>\n",
       "      <td>...</td>\n",
       "      <td>...</td>\n",
       "      <td>...</td>\n",
       "      <td>...</td>\n",
       "      <td>...</td>\n",
       "      <td>...</td>\n",
       "      <td>...</td>\n",
       "      <td>...</td>\n",
       "    </tr>\n",
       "    <tr>\n",
       "      <th>2023-06-22 09:15:00</th>\n",
       "      <td>NSE:BAJFINANCE</td>\n",
       "      <td>7200.100100</td>\n",
       "      <td>7204.149900</td>\n",
       "      <td>7020.000000</td>\n",
       "      <td>7030.000000</td>\n",
       "      <td>827194.0</td>\n",
       "      <td>7056.569611</td>\n",
       "      <td>6758.602355</td>\n",
       "      <td>52.684975</td>\n",
       "    </tr>\n",
       "    <tr>\n",
       "      <th>2023-06-23 09:15:00</th>\n",
       "      <td>NSE:BAJFINANCE</td>\n",
       "      <td>7020.950200</td>\n",
       "      <td>7055.000000</td>\n",
       "      <td>6956.100100</td>\n",
       "      <td>6989.649900</td>\n",
       "      <td>815226.0</td>\n",
       "      <td>7050.196305</td>\n",
       "      <td>6767.663043</td>\n",
       "      <td>50.550865</td>\n",
       "    </tr>\n",
       "    <tr>\n",
       "      <th>2023-06-26 09:15:00</th>\n",
       "      <td>NSE:BAJFINANCE</td>\n",
       "      <td>6990.000000</td>\n",
       "      <td>7035.000000</td>\n",
       "      <td>6945.000000</td>\n",
       "      <td>6998.700200</td>\n",
       "      <td>563539.0</td>\n",
       "      <td>7045.291914</td>\n",
       "      <td>6776.723323</td>\n",
       "      <td>51.030006</td>\n",
       "    </tr>\n",
       "    <tr>\n",
       "      <th>2023-06-27 09:15:00</th>\n",
       "      <td>NSE:BAJFINANCE</td>\n",
       "      <td>7030.000000</td>\n",
       "      <td>7030.000000</td>\n",
       "      <td>6954.000000</td>\n",
       "      <td>7019.250000</td>\n",
       "      <td>709789.0</td>\n",
       "      <td>7042.811732</td>\n",
       "      <td>6786.234173</td>\n",
       "      <td>52.163433</td>\n",
       "    </tr>\n",
       "    <tr>\n",
       "      <th>2023-06-28 09:15:00</th>\n",
       "      <td>NSE:BAJFINANCE</td>\n",
       "      <td>7054.350100</td>\n",
       "      <td>7125.000000</td>\n",
       "      <td>7040.000000</td>\n",
       "      <td>7090.200200</td>\n",
       "      <td>709782.0</td>\n",
       "      <td>7047.324919</td>\n",
       "      <td>6798.154410</td>\n",
       "      <td>55.953972</td>\n",
       "    </tr>\n",
       "  </tbody>\n",
       "</table>\n",
       "<p>2951 rows × 9 columns</p>\n",
       "</div>"
      ],
      "text/plain": [
       "                             symbol         open         high          low  \\\n",
       "datetime                                                                     \n",
       "2011-07-18 09:15:00  NSE:BAJFINANCE    72.100000    72.790002    71.700000   \n",
       "2011-07-19 09:15:00  NSE:BAJFINANCE    72.329999    78.000000    71.809998   \n",
       "2011-07-20 09:15:00  NSE:BAJFINANCE    74.950000    75.475000    71.500000   \n",
       "2011-07-21 09:15:00  NSE:BAJFINANCE    73.000000    73.000000    70.200000   \n",
       "2011-07-22 09:15:00  NSE:BAJFINANCE    72.000000    73.079999    71.300000   \n",
       "...                             ...          ...          ...          ...   \n",
       "2023-06-22 09:15:00  NSE:BAJFINANCE  7200.100100  7204.149900  7020.000000   \n",
       "2023-06-23 09:15:00  NSE:BAJFINANCE  7020.950200  7055.000000  6956.100100   \n",
       "2023-06-26 09:15:00  NSE:BAJFINANCE  6990.000000  7035.000000  6945.000000   \n",
       "2023-06-27 09:15:00  NSE:BAJFINANCE  7030.000000  7030.000000  6954.000000   \n",
       "2023-06-28 09:15:00  NSE:BAJFINANCE  7054.350100  7125.000000  7040.000000   \n",
       "\n",
       "                           close     volume     ema_fast     ema_slow  \\\n",
       "datetime                                                                \n",
       "2011-07-18 09:15:00    72.125000  1510490.0    64.814422    62.289000   \n",
       "2011-07-19 09:15:00    73.829999  2082100.0    65.673049    62.741588   \n",
       "2011-07-20 09:15:00    72.725000   489180.0    66.344663    63.133095   \n",
       "2011-07-21 09:15:00    71.179999   346730.0    66.805171    63.448660   \n",
       "2011-07-22 09:15:00    72.720001   673500.0    67.368488    63.812242   \n",
       "...                          ...        ...          ...          ...   \n",
       "2023-06-22 09:15:00  7030.000000   827194.0  7056.569611  6758.602355   \n",
       "2023-06-23 09:15:00  6989.649900   815226.0  7050.196305  6767.663043   \n",
       "2023-06-26 09:15:00  6998.700200   563539.0  7045.291914  6776.723323   \n",
       "2023-06-27 09:15:00  7019.250000   709789.0  7042.811732  6786.234173   \n",
       "2023-06-28 09:15:00  7090.200200   709782.0  7047.324919  6798.154410   \n",
       "\n",
       "                           rsi  \n",
       "datetime                        \n",
       "2011-07-18 09:15:00  75.970278  \n",
       "2011-07-19 09:15:00  78.359873  \n",
       "2011-07-20 09:15:00  73.274192  \n",
       "2011-07-21 09:15:00  66.750938  \n",
       "2011-07-22 09:15:00  69.651168  \n",
       "...                        ...  \n",
       "2023-06-22 09:15:00  52.684975  \n",
       "2023-06-23 09:15:00  50.550865  \n",
       "2023-06-26 09:15:00  51.030006  \n",
       "2023-06-27 09:15:00  52.163433  \n",
       "2023-06-28 09:15:00  55.953972  \n",
       "\n",
       "[2951 rows x 9 columns]"
      ]
     },
     "execution_count": 36,
     "metadata": {},
     "output_type": "execute_result"
    }
   ],
   "source": [
    "import pandas as pd\n",
    "import matplotlib.pyplot as plt\n",
    "import matplotlib.ticker as ticker\n",
    "df = pd.read_csv('dataset_invst.csv')\n",
    "df['datetime'] = pd.to_datetime(df['datetime'])\n",
    "df.set_index('datetime', inplace=True)\n",
    "\n"
   ]
  },
  {
   "cell_type": "code",
   "execution_count": 37,
   "metadata": {},
   "outputs": [
    {
     "data": {
      "image/png": "[encoded data removed]",
      "text/plain": [
       "<Figure size 432x288 with 1 Axes>"
      ]
     },
     "metadata": {
      "needs_background": "light"
     },
     "output_type": "display_data"
    }
   ],
   "source": [
    "plt.title('Historic Closing Price with EMA')\n",
    "\n",
    "plt.plot(df['close'], label='Closing Price')\n",
    "plt.plot(df['ema_fast'], label='EMA_fast')\n",
    "plt.plot(df['ema_slow'], label='EMA_slow')\n",
    "\n",
    "plt.xlabel('Date Time')\n",
    "plt.ylabel('Price')\n",
    "\n",
    "plt.legend()\n",
    "\n",
    "plt.xticks(rotation=45, ha='right')\n",
    "\n",
    "tick_interval = 400 \n",
    "\n",
    "plt.gca().xaxis.set_major_locator(ticker.MultipleLocator(tick_interval))\n",
    "\n",
    "\n",
    "plt.show()"
   ]
  },
  {
   "attachments": {},
   "cell_type": "markdown",
   "metadata": {},
   "source": [
    "> The Above graph shows Closing Price and Exponentially moving averages which is given in the dataset itself"
   ]
  },
  {
   "cell_type": "code",
   "execution_count": 38,
   "metadata": {},
   "outputs": [
    {
     "data": {
      "image/png": "[encoded data removed]",
      "text/plain": [
       "<Figure size 432x288 with 1 Axes>"
      ]
     },
     "metadata": {
      "needs_background": "light"
     },
     "output_type": "display_data"
    }
   ],
   "source": [
    "df['returns'] = df['close'].pct_change()\n",
    "\n",
    "plt.hist(df['returns'].dropna(), bins=30, edgecolor='black')\n",
    "plt.title('Histogram of Daily Returns')\n",
    "plt.xlabel('Returns')\n",
    "plt.ylabel('Frequency')\n",
    "\n",
    "\n",
    "plt.show()"
   ]
  },
  {
   "attachments": {},
   "cell_type": "markdown",
   "metadata": {},
   "source": [
    "> returns can be found by first arranging the datapoints in ascending order wrt. time and calculating the percentage change of closing price\n",
    "\n",
    "> Above is the histogram of frequencies in which the returns occured"
   ]
  },
  {
   "cell_type": "code",
   "execution_count": 39,
   "metadata": {},
   "outputs": [
    {
     "data": {
      "image/png": "[encoded data removed]",
      "text/plain": [
       "<Figure size 432x288 with 1 Axes>"
      ]
     },
     "metadata": {
      "needs_background": "light"
     },
     "output_type": "display_data"
    }
   ],
   "source": [
    "plt.plot(df['returns'], label='returns')\n",
    "\n",
    "plt.title('Daily returns')\n",
    "plt.xlabel('Date')\n",
    "plt.ylabel('returns')\n",
    "plt.legend()\n",
    "plt.xticks(rotation=45, ha='right')\n",
    "tick_interval = 400 \n",
    "plt.gca().xaxis.set_major_locator(ticker.MultipleLocator(tick_interval))\n",
    "\n",
    "\n",
    "plt.show()"
   ]
  },
  {
   "attachments": {},
   "cell_type": "markdown",
   "metadata": {},
   "source": [
    "> Above is the graph of daily returns"
   ]
  },
  {
   "cell_type": "code",
   "execution_count": 40,
   "metadata": {},
   "outputs": [
    {
     "name": "stdout",
     "output_type": "stream",
     "text": [
      "Average Volume: 1482902.9837343274\n"
     ]
    }
   ],
   "source": [
    "average_volume = df['volume'].mean()\n",
    "print(\"Average Volume:\", average_volume)"
   ]
  },
  {
   "attachments": {},
   "cell_type": "markdown",
   "metadata": {},
   "source": [
    "> Average Volume cann be found by averaging over the volume data"
   ]
  },
  {
   "cell_type": "code",
   "execution_count": 41,
   "metadata": {},
   "outputs": [
    {
     "name": "stdout",
     "output_type": "stream",
     "text": [
      "# Green Candles: 1423\n",
      "# Red Candles: 1523\n"
     ]
    }
   ],
   "source": [
    "green_candles = 0\n",
    "red_candles = 0\n",
    "for i in range(len(df)):\n",
    "    if df['open'][i] < df['close'][i]:\n",
    "        green_candles += 1\n",
    "    elif df['open'][i] > df['close'][i]:\n",
    "        red_candles += 1\n",
    "print(\"# Green Candles:\", green_candles)\n",
    "print(\"# Red Candles:\", red_candles)"
   ]
  },
  {
   "attachments": {},
   "cell_type": "markdown",
   "metadata": {},
   "source": [
    "> green candles is defined as when closing price is greter than openin price\n",
    "\n",
    "> red candles is defined as when closing price is less than openin price"
   ]
  },
  {
   "cell_type": "code",
   "execution_count": 42,
   "metadata": {},
   "outputs": [
    {
     "name": "stdout",
     "output_type": "stream",
     "text": [
      "#Three White Soldiers patterns: 343\n",
      "#Three Black Crows patterns: 266\n"
     ]
    }
   ],
   "source": [
    "num_white_soldiers = 0\n",
    "num_black_crows = 0\n",
    "for i in range(2, len(df)):\n",
    "    # Check for Three White Soldiers pattern\n",
    "    if (\n",
    "        df['close'][i] > df['close'][i-1] > df['close'][i-2] and\n",
    "        df['open'][i] > df['open'][i-1] > df['open'][i-2]\n",
    "    ):\n",
    "        num_white_soldiers += 1\n",
    "\n",
    "    # Check for Three Black Crows pattern\n",
    "    elif (\n",
    "        df['close'][i] < df['close'][i-1] < df['close'][i-2] and\n",
    "        df['open'][i] < df['open'][i-1] < df['open'][i-2]\n",
    "    ):\n",
    "        num_black_crows += 1\n",
    "\n",
    "# Print the results\n",
    "print(\"#Three White Soldiers patterns:\", num_white_soldiers)\n",
    "print(\"#Three Black Crows patterns:\", num_black_crows)"
   ]
  },
  {
   "attachments": {},
   "cell_type": "markdown",
   "metadata": {},
   "source": [
    "- `Three White Soldiers` pattern:three consecutive upward candles, where each candle closes higher than the previous one.\n",
    "- `Three Black Crows` pattern: three consecutive downward candles, where each candle closes lower than the previous one."
   ]
  }
 ],
 "metadata": {
  "kernelspec": {
   "display_name": "Python 3",
   "language": "python",
   "name": "python3"
  },
  "language_info": {
   "codemirror_mode": {
    "name": "ipython",
    "version": 3
   },
   "file_extension": ".py",
   "mimetype": "text/x-python",
   "name": "python",
   "nbconvert_exporter": "python",
   "pygments_lexer": "ipython3",
   "version": "3.10.6"
  },
  "orig_nbformat": 4
 },
 "nbformat": 4,
 "nbformat_minor": 2
}
